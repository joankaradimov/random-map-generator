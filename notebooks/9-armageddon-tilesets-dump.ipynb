{
 "cells": [
  {
   "cell_type": "code",
   "execution_count": 1,
   "metadata": {},
   "outputs": [],
   "source": [
    "import numpy as np\n",
    "import matplotlib.pyplot as plt\n",
    "import imageio"
   ]
  },
  {
   "cell_type": "code",
   "execution_count": 35,
   "metadata": {},
   "outputs": [],
   "source": [
    "def dump_tileset(name):\n",
    "    with open('../tilesets/armageddon-tilesets/Data/%s.pi' % name, 'rb') as file:\n",
    "        data = file.read()\n",
    "\n",
    "    with open('../tilesets/armageddon-tilesets/Palette/%s.pal' % name, 'rb') as file:\n",
    "        palette = file.read()\n",
    "\n",
    "    palette = np.frombuffer(palette, dtype=np.uint8).reshape([-1, 4])\n",
    "    palette = palette[:, :3]\n",
    "    \n",
    "    paletted_data = np.array(list(map(lambda x: palette[x], data)))\n",
    "    \n",
    "    tiles = paletted_data[24:].reshape([-1, 32, 32, 3])\n",
    "\n",
    "    for i, tile in enumerate(tiles):\n",
    "        imageio.imwrite('%s-%d.png' % (name, i), tile)"
   ]
  },
  {
   "cell_type": "code",
   "execution_count": 36,
   "metadata": {},
   "outputs": [],
   "source": [
    "dump_tileset('Desert')"
   ]
  },
  {
   "cell_type": "code",
   "execution_count": 37,
   "metadata": {},
   "outputs": [],
   "source": [
    "dump_tileset('building')"
   ]
  },
  {
   "cell_type": "code",
   "execution_count": 38,
   "metadata": {},
   "outputs": [],
   "source": [
    "dump_tileset('ead')"
   ]
  },
  {
   "cell_type": "code",
   "execution_count": 39,
   "metadata": {},
   "outputs": [],
   "source": [
    "dump_tileset('earth')"
   ]
  },
  {
   "cell_type": "code",
   "execution_count": 40,
   "metadata": {},
   "outputs": [],
   "source": [
    "dump_tileset('space')"
   ]
  },
  {
   "cell_type": "code",
   "execution_count": null,
   "metadata": {},
   "outputs": [],
   "source": []
  }
 ],
 "metadata": {
  "kernelspec": {
   "display_name": "Python 3",
   "language": "python",
   "name": "python3"
  },
  "language_info": {
   "codemirror_mode": {
    "name": "ipython",
    "version": 3
   },
   "file_extension": ".py",
   "mimetype": "text/x-python",
   "name": "python",
   "nbconvert_exporter": "python",
   "pygments_lexer": "ipython3",
   "version": "3.7.8"
  }
 },
 "nbformat": 4,
 "nbformat_minor": 2
}
