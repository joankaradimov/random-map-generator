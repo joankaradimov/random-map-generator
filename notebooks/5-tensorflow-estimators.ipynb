{
 "cells": [
  {
   "cell_type": "code",
   "execution_count": 1,
   "metadata": {},
   "outputs": [],
   "source": [
    "import numpy as np\n",
    "import matplotlib.pyplot as plt\n",
    "import tensorflow as tf\n",
    "\n",
    "import os\n",
    "import sys\n",
    "\n",
    "sys.path.append('../model')\n",
    "\n",
    "import config\n",
    "from scenario import *\n",
    "from tileset import *\n",
    "\n",
    "%matplotlib inline"
   ]
  },
  {
   "cell_type": "code",
   "execution_count": 2,
   "metadata": {},
   "outputs": [
    {
     "data": {
      "text/plain": [
       "223"
      ]
     },
     "execution_count": 2,
     "metadata": {},
     "output_type": "execute_result"
    }
   ],
   "source": [
    "scenarios = []\n",
    "scenarios += process_scenarios(os.path.join(config.STARCRAFT_ROOT, 'Maps'))\n",
    "for directory in config.MAP_DIRECTORIES:\n",
    "    scenarios += process_scenarios(directory)\n",
    "\n",
    "jungle_scenarios = [x for x in scenarios if x.tileset == Tileset.JUNGLE]\n",
    "\n",
    "len(jungle_scenarios)"
   ]
  },
  {
   "cell_type": "code",
   "execution_count": 3,
   "metadata": {},
   "outputs": [],
   "source": [
    "jungle_tiles = Tileset.JUNGLE.tiles\n",
    "terrain_tiles = (tile for tile in jungle_tiles if not tile.is_doodad)\n",
    "doodad_tiles = (tile for tile in jungle_tiles if tile.is_doodad)\n",
    "\n",
    "groups = dict()\n",
    "tile_features = dict()\n",
    "\n",
    "for tile in terrain_tiles:\n",
    "    if tile not in tile_features:\n",
    "        if tile.group_id not in groups:\n",
    "            groups[tile.group_id] = len(groups)\n",
    "        tile_features[tile] = (groups[tile.group_id], tile.group_offset + 1)\n",
    "\n",
    "tile_kinds = len(groups)\n",
    "for tile in doodad_tiles:\n",
    "    if tile not in tile_features:\n",
    "        tile_features[tile] = (tile_kinds, 0)\n",
    "        tile_kinds += 1\n",
    "\n",
    "def scenario_data(scenarios):\n",
    "    for scenario in scenarios:\n",
    "        for i in range(scenario.tiles.shape[0]):\n",
    "            for j in range(scenario.tiles.shape[1]):\n",
    "                left_tile = scenario.tiles[i, j - 1] if j != 0 else jungle_tiles[0]\n",
    "                top_tile = scenario.tiles[i - 1, j] if i != 0 else jungle_tiles[0]\n",
    "                tile = scenario.tiles[i, j]\n",
    "\n",
    "                yield [*tile_features[top_tile], *tile_features[left_tile], *tile_features[tile]]"
   ]
  },
  {
   "cell_type": "code",
   "execution_count": 12,
   "metadata": {},
   "outputs": [
    {
     "data": {
      "text/plain": [
       "(49152, 6)"
      ]
     },
     "execution_count": 12,
     "metadata": {},
     "output_type": "execute_result"
    }
   ],
   "source": [
    "dataset = list(scenario_data(x for x in jungle_scenarios if x.width == 64 and x.height == 64))\n",
    "dataset = np.array(dataset)\n",
    "dataset.shape"
   ]
  },
  {
   "cell_type": "code",
   "execution_count": 7,
   "metadata": {},
   "outputs": [],
   "source": [
    "top_tile_kind_column = tf.feature_column.categorical_column_with_identity(key='top_tile_kind', num_buckets=tile_kinds)\n",
    "top_tile_variant_column = tf.feature_column.categorical_column_with_identity(key='top_tile_variant', num_buckets=17)\n",
    "left_tile_kind_column = tf.feature_column.categorical_column_with_identity(key='left_tile_kind', num_buckets=tile_kinds)\n",
    "left_tile_variant_column = tf.feature_column.categorical_column_with_identity(key='left_tile_variant', num_buckets=17)\n",
    "tile_kind_column = tf.feature_column.categorical_column_with_identity(key='tile_kind', num_buckets=tile_kinds)\n",
    "tile_variant_column = tf.feature_column.categorical_column_with_identity(key='tile_variant', num_buckets=17)\n",
    "\n",
    "feature_columns = [top_tile_kind_column, top_tile_variant_column, left_tile_kind_column, left_tile_variant_column]"
   ]
  },
  {
   "cell_type": "code",
   "execution_count": 16,
   "metadata": {},
   "outputs": [],
   "source": [
    "def input_fn():\n",
    "    return {\n",
    "        'top_tile_kind': dataset.T[0],\n",
    "        'top_tile_variant': dataset.T[1],\n",
    "        'left_tile_kind': dataset.T[2],\n",
    "        'left_tile_variant': dataset.T[3],\n",
    "    },\n",
    "    dataset.T[4]"
   ]
  }
 ],
 "metadata": {
  "kernelspec": {
   "display_name": "Python 3",
   "language": "python",
   "name": "python3"
  },
  "language_info": {
   "codemirror_mode": {
    "name": "ipython",
    "version": 3
   },
   "file_extension": ".py",
   "mimetype": "text/x-python",
   "name": "python",
   "nbconvert_exporter": "python",
   "pygments_lexer": "ipython3",
   "version": "3.6.5"
  }
 },
 "nbformat": 4,
 "nbformat_minor": 2
}
