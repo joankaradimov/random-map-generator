{
 "cells": [
  {
   "cell_type": "markdown",
   "metadata": {},
   "source": [
    "# Feature engineering\n",
    "\n",
    "В предишната тетрадка опитахме различни неща с модела. Но семплирането на модела не даде смислен резултат.\n",
    "\n",
    "Ще опитаме да направим по-добри (и повече) feature-и за всяка от плочките и да оставим невронната мрежа да си сврърши работата.\n",
    "\n",
    "Нека заредим малко модули и данни..."
   ]
  },
  {
   "cell_type": "code",
   "execution_count": 1,
   "metadata": {},
   "outputs": [],
   "source": [
    "import numpy as np\n",
    "import os\n",
    "import random\n",
    "\n",
    "import config\n",
    "from scenario import *\n",
    "from tileset import *"
   ]
  },
  {
   "cell_type": "code",
   "execution_count": 2,
   "metadata": {},
   "outputs": [
    {
     "data": {
      "text/plain": [
       "561"
      ]
     },
     "execution_count": 2,
     "metadata": {},
     "output_type": "execute_result"
    }
   ],
   "source": [
    "scenarios = []\n",
    "scenarios += process_scenarios(os.path.join(config.STARCRAFT_ROOT, 'Maps'))\n",
    "for directory in config.MAP_DIRECTORIES:\n",
    "    scenarios += process_scenarios(directory)\n",
    "\n",
    "tiny_jungle_scenarios = [x for x in scenarios if x.tileset == Tileset.JUNGLE]\n",
    "tiny_jungle_scenarios = [x for x in scenarios if x.alliances == x.human_players == 2 and x.width == x.height == 64]\n",
    "\n",
    "len(scenarios)"
   ]
  },
  {
   "cell_type": "code",
   "execution_count": 3,
   "metadata": {},
   "outputs": [],
   "source": [
    "import matplotlib.pyplot as plt"
   ]
  },
  {
   "cell_type": "markdown",
   "metadata": {},
   "source": [
    "## Идея 1: feature-и от свойства на плочки?\n",
    "\n",
    "Интуитивен начин да направим feature-и би бил да вземем всички 16 мини-плочки, от които е направена всяка плочка. На базата на свойствата на тези мини-плочки и на свойствата на самата плочка можем да направим векторите ни с feature-и.\n",
    "\n",
    "След известно ровене в плочките забелязваме нещо..."
   ]
  },
  {
   "cell_type": "code",
   "execution_count": 4,
   "metadata": {
    "scrolled": false
   },
   "outputs": [
    {
     "name": "stdout",
     "output_type": "stream",
     "text": [
      "1074 0\n",
      "[[0.33333333 0.33333333 0.33333333 0.33333333]\n",
      " [0.33333333 0.33333333 0.33333333 0.33333333]\n",
      " [0.33333333 0.33333333 0.33333333 0.33333333]\n",
      " [0.33333333 0.33333333 0.33333333 0.33333333]]\n",
      "[[ True  True  True  True]\n",
      " [ True  True  True  True]\n",
      " [ True  True  True  True]\n",
      " [ True  True  True  True]]\n"
     ]
    },
    {
     "data": {
      "image/png": "[encoded data removed]",
      "text/plain": [
       "<Figure size 432x288 with 1 Axes>"
      ]
     },
     "metadata": {
      "needs_background": "light"
     },
     "output_type": "display_data"
    }
   ],
   "source": [
    "lost_temple = next(filter(lambda x: x.name == 'The Lost Temple', scenarios))\n",
    "\n",
    "plt.imshow(lost_temple.tiles[65, 8].graphics)\n",
    "print(lost_temple.tiles[65, 8].index // 16, lost_temple.tiles[65, 8].index % 16)\n",
    "print(np.vectorize(lambda x: x.height)(lost_temple.tiles[65, 8].minitiles))\n",
    "print(np.vectorize(lambda x: x.ramp)(lost_temple.tiles[65, 8].minitiles))"
   ]
  },
  {
   "cell_type": "markdown",
   "metadata": {},
   "source": [
    "Това е част от изкачване от \"lowground\" към \"highground\". Свойствата му са напълно безполезни. На практика не можем да използваме височината на плочката като feature. Нито флага `ramp`. Други флагове може би ще идентифицират плочката, но едва ли ще бъде достатъчно за уникална идентификация."
   ]
  },
  {
   "cell_type": "markdown",
   "metadata": {},
   "source": [
    "## Идея 2: One hot encoding (with a twist)\n",
    "\n",
    "При имплементацията на парсера за `Tileset` данни, забелязваме че има два типа плочки. Първите са нормални части от терена. Вторите са \"нещица\" (doodads) разхвърляни по картата.\n",
    "\n",
    "Първите са разпръснати в групи от по до 16 плочки. Свойствата им са еднотипни в рамките на групата. Разликата е единствено във визуализацията им. Плочките в една група са взаимнозаменяеми.\n",
    "\n",
    "Вторите обикновено са препятствия по терена, чиято графика е по-голяма от размерите на единична плочка. За да се получи \"нещото\", плочките му трябва да бъдат използвани в конкретен ред. Плочките от този тип също са в групи, но плочките не са взаимнозаменяеми в рамките на група.\n",
    "\n",
    "Идеята е плочките от първи тип да кодираме като `(уникален-номер-на-група, позиция-в-групата)`, а плочките от втори тип като `(уникален-номер-на-плочка, 0.5)`, където `уникален-номер-на-група` и `уникален-номер-на-плочка` са две непресичащи се множества от последователни цели числа."
   ]
  },
  {
   "cell_type": "code",
   "execution_count": 5,
   "metadata": {},
   "outputs": [],
   "source": [
    "tiles = Tileset.JUNGLE.tiles\n",
    "terrain_tiles = (tile for tile in tiles if not tile.is_empty and not tile.is_doodad)\n",
    "doodad_tiles = (tile for tile in tiles if not tile.is_empty and tile.is_doodad)\n",
    "\n",
    "used_tiles = set()\n",
    "\n",
    "groups = dict()\n",
    "tile_features = dict()\n",
    "\n",
    "for tile in terrain_tiles:\n",
    "    if tile in tile_features:\n",
    "        continue\n",
    "    if not tile.group_id in groups:\n",
    "        groups[tile.group_id] = len(groups)\n",
    "    tile_features[tile] = (groups[tile.group_id], (tile.group_offset + 1) / 16)\n",
    "\n",
    "group_count = len(groups)\n",
    "del(groups)\n",
    "for tile in doodad_tiles:\n",
    "    if tile in tile_features:\n",
    "        continue\n",
    "    group_count += 1\n",
    "    tile_features[tile] = (group_count, 0.5)"
   ]
  },
  {
   "cell_type": "code",
   "execution_count": 6,
   "metadata": {},
   "outputs": [
    {
     "name": "stdout",
     "output_type": "stream",
     "text": [
      "2086\n"
     ]
    }
   ],
   "source": [
    "print(group_count)"
   ]
  },
  {
   "cell_type": "markdown",
   "metadata": {},
   "source": [
    "В момента сме кодирали всяка плочка с двойка числа (x, y), където x ∈ [0-2413), y ∈ (0-1]. Може да се каже, че при втория параметър има някаква наредба. При вървият обаче - не. Ще му направим one hot encoding."
   ]
  },
  {
   "cell_type": "code",
   "execution_count": 7,
   "metadata": {},
   "outputs": [],
   "source": [
    "one_hot_tile_features = dict()\n",
    "\n",
    "for tile, (group_id, group_offset) in tile_features.items():\n",
    "    one_hot_tile_features[tile] = np.zeros(group_count + 1)\n",
    "    one_hot_tile_features[tile][group_id] = 1.0\n",
    "    one_hot_tile_features[tile][-1] = group_offset\n",
    "\n",
    "del tile_features"
   ]
  },
  {
   "cell_type": "code",
   "execution_count": null,
   "metadata": {},
   "outputs": [],
   "source": []
  }
 ],
 "metadata": {
  "kernelspec": {
   "display_name": "Python 3",
   "language": "python",
   "name": "python3"
  },
  "language_info": {
   "codemirror_mode": {
    "name": "ipython",
    "version": 3
   },
   "file_extension": ".py",
   "mimetype": "text/x-python",
   "name": "python",
   "nbconvert_exporter": "python",
   "pygments_lexer": "ipython3",
   "version": "3.6.5"
  }
 },
 "nbformat": 4,
 "nbformat_minor": 2
}
